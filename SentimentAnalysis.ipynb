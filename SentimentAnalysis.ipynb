{
  "nbformat": 4,
  "nbformat_minor": 0,
  "metadata": {
    "colab": {
      "name": "SentimentAnalysis.ipynb",
      "provenance": [],
      "collapsed_sections": [],
      "machine_shape": "hm"
    },
    "kernelspec": {
      "name": "python3",
      "display_name": "Python 3"
    },
    "accelerator": "GPU"
  },
  "cells": [
    {
      "cell_type": "code",
      "metadata": {
        "id": "P08El5otrQ4y",
        "colab_type": "code",
        "colab": {}
      },
      "source": [
        "# Importing the required libraries\n",
        "\n",
        "import re\n",
        "import json\n",
        "import nltk\n",
        "import tweepy\n",
        "import pandas as pd\n",
        "from matplotlib import pyplot as plt\n",
        "\n",
        "from nltk.corpus import stopwords\n",
        "from nltk.stem.porter import PorterStemmer\n",
        "from sklearn.feature_extraction.text import CountVectorizer\n",
        "\n",
        "from sklearn.model_selection import train_test_split\n",
        "from sklearn.naive_bayes import GaussianNB\n",
        "from sklearn.metrics import confusion_matrix\n",
        "\n",
        "from sklearn.tree import DecisionTreeClassifier\n",
        "from sklearn.metrics import accuracy_score\n",
        "\n",
        "from sklearn.ensemble import RandomForestClassifier\n",
        "\n",
        "import torch\n",
        "import torch.nn as nn\n",
        "import torch.optim as optim\n",
        "import torch.nn.functional as F\n",
        "\n",
        "from tqdm import tqdm"
      ],
      "execution_count": 0,
      "outputs": []
    },
    {
      "cell_type": "code",
      "metadata": {
        "id": "_f0wSyvRrX5w",
        "colab_type": "code",
        "outputId": "f752e2db-3f24-4ee4-b472-130158643bce",
        "colab": {
          "base_uri": "https://localhost:8080/",
          "height": 51
        }
      },
      "source": [
        "# Setting some golbal varaibles\n",
        "\n",
        "consumer_key = \"########################\"\n",
        "consumer_secret_key =\"##########################################\"\n",
        "access_token = \"######################################################\"\n",
        "access_token_secret = \"###############################################\"\n",
        "\n",
        "auth = tweepy.OAuthHandler(consumer_key,consumer_secret_key)\n",
        "auth.set_access_token(access_token,access_token_secret)\n",
        "\n",
        "api = tweepy.API(auth,wait_on_rate_limit=True)\n",
        "nltk.download('stopwords')\n",
        "modified_words = stopwords.words('english')\n",
        "modified_words.remove('not')"
      ],
      "execution_count": 3,
      "outputs": [
        {
          "output_type": "stream",
          "text": [
            "[nltk_data] Downloading package stopwords to /root/nltk_data...\n",
            "[nltk_data]   Package stopwords is already up-to-date!\n"
          ],
          "name": "stdout"
        }
      ]
    },
    {
      "cell_type": "code",
      "metadata": {
        "id": "TO5XO8wTra5G",
        "colab_type": "code",
        "colab": {}
      },
      "source": [
        "# Function to scrap 100 tweets using a particular keyword\n",
        "\n",
        "def createTestData(word):\n",
        "    tweets = api.search(q=word,count=100,lang=\"en\",tweet_mode=\"extended\")\n",
        "    full_tweets = []\n",
        "    for tweet in tweets:\n",
        "        if(str(tweet._json[\"full_text\"]).startswith(\"RT \")):\n",
        "            full_tweets.append(tweet._json[\"retweeted_status\"][\"full_text\"])\n",
        "        else:\n",
        "            full_tweets.append(tweet._json[\"full_text\"])\n",
        "    return full_tweets"
      ],
      "execution_count": 0,
      "outputs": []
    },
    {
      "cell_type": "code",
      "metadata": {
        "id": "_E2V680jrzi0",
        "colab_type": "code",
        "colab": {}
      },
      "source": [
        "# Function to clean the tweets\n",
        "\n",
        "def clean(tweets):\n",
        "    \n",
        "    clean_tweets = []\n",
        "    for temp_tweet in tweets:\n",
        "        temp_tweet = re.sub(r'http\\S+',\"\",temp_tweet)\n",
        "        temp_tweet = re.sub(r'[^a-zA-Z]',\" \",temp_tweet).lower().split()\n",
        "        ps = PorterStemmer()\n",
        "        temp_tweet = [ps.stem(word) for word in temp_tweet if word not in set(stopwords.words('english'))]\n",
        "        temp_tweet = \" \".join(temp_tweet)\n",
        "        clean_tweets.append(temp_tweet)\n",
        "    return clean_tweets"
      ],
      "execution_count": 0,
      "outputs": []
    },
    {
      "cell_type": "code",
      "metadata": {
        "id": "nAIWGuT82dlr",
        "colab_type": "code",
        "colab": {}
      },
      "source": [
        "# To predict accuracy in case of feedforward neural network\n",
        "\n",
        "def accuracy(predictions,y):\n",
        "  correctList = list(torch.round(predictions) == y)\n",
        "  count = correctList.count(True)\n",
        "  acc = (100 * count) / len(correctList)\n",
        "  return acc"
      ],
      "execution_count": 0,
      "outputs": []
    },
    {
      "cell_type": "code",
      "metadata": {
        "id": "-71ZUXnfsPVJ",
        "colab_type": "code",
        "colab": {}
      },
      "source": [
        "#This function essentially prepares the dataset, cleans it, perfroms CountVectorizer on it and return the training and test data\n",
        "\n",
        "def prepareData(df):\n",
        "  df = df[[\"Sentiment\",\"SentimentText\"]]\n",
        "  dataset = list(df.iloc[:,-1].values)\n",
        "  y = df.iloc[:,0].values\n",
        "  clean_dataset = clean(dataset)\n",
        "  cv = CountVectorizer(max_features=5000)\n",
        "  X = cv.fit_transform(clean_dataset).toarray()\n",
        "  Xtrain, Xtest, ytrain, ytest = train_test_split(X,y,test_size=0.15)\n",
        "  return Xtrain, Xtest, ytrain, ytest, cv"
      ],
      "execution_count": 0,
      "outputs": []
    },
    {
      "cell_type": "code",
      "metadata": {
        "id": "mb-jkhXhHWpI",
        "colab_type": "code",
        "colab": {}
      },
      "source": [
        "# Training Naive Bayes Classifier for text classification\n",
        "\n",
        "def NaiveBayesClassifier(Xtrain,ytrain,Xtest,ytest):\n",
        "  nb = GaussianNB()\n",
        "  nb.fit(Xtrain,ytrain)\n",
        "  trainPredNB = nb.predict(Xtrain)\n",
        "  trainAcc= nb.score(Xtrain,ytrain)\n",
        "  testPredNB = nb.predict(Xtest)\n",
        "  testAcc = nb.score(Xtest,ytest)\n",
        "  print(\"Training Accuracy on Naive Bayes is\",trainAcc)\n",
        "  print(\"Test Accuracy on Naive Bayes is\",testAcc)\n",
        "  return trainAcc, testAcc,nb"
      ],
      "execution_count": 0,
      "outputs": []
    },
    {
      "cell_type": "code",
      "metadata": {
        "id": "0Nb_UTh4-rmy",
        "colab_type": "code",
        "colab": {}
      },
      "source": [
        "# Training Decision Tree Classifier for text classification\n",
        "\n",
        "def DecisionTree(Xtrain,ytrain,Xtest,ytest):\n",
        "  classifier = DecisionTreeClassifier(max_depth=50)\n",
        "  classifier.fit(Xtrain,ytrain)\n",
        "  decisionTreeTrainPredictions = classifier.predict(Xtrain)\n",
        "  decisionTreeTestPredictions = classifier.predict(Xtest)\n",
        "  trainAcc = accuracy_score(ytrain,decisionTreeTrainPredictions)\n",
        "  testAcc = accuracy_score(ytest,decisionTreeTestPredictions)\n",
        "\n",
        "  print(\"Training Accuracy on Decision Tree is\",trainAcc)\n",
        "  print(\"Test Accuracy on Decision Tree is\",testAcc)\n",
        "\n",
        "  return trainAcc, testAcc, classifier"
      ],
      "execution_count": 0,
      "outputs": []
    },
    {
      "cell_type": "code",
      "metadata": {
        "id": "IuXdhVFNAN9K",
        "colab_type": "code",
        "colab": {}
      },
      "source": [
        "# Training Random Forest Classifier for text classification\n",
        "\n",
        "def RandomForest(Xtrain,Xtest,ytrain,ytest):\n",
        "  forest = RandomForestClassifier(n_estimators=20)\n",
        "  forest.fit(Xtrain,ytrain)\n",
        "  predTrainForest = forest.predict(Xtrain)\n",
        "  predTestForest = forest.predict(Xtest)\n",
        "  trainAcc = accuracy_score(ytrain,predTrainForest)\n",
        "  testAcc = accuracy_score(ytest,predTestForest)\n",
        "\n",
        "  print(\"Training Accuracy on Random Forest Classification is\",trainAcc)\n",
        "  print(\"Test Accuracy on random Forest Classifications is\",testAcc)\n",
        "\n",
        "  return trainAcc, testAcc, forest"
      ],
      "execution_count": 0,
      "outputs": []
    },
    {
      "cell_type": "code",
      "metadata": {
        "id": "OvPdkxK_AG7V",
        "colab_type": "code",
        "colab": {}
      },
      "source": [
        "class Sentiment(nn.Module):\n",
        "    def __init__(self,input_features):\n",
        "        super(Sentiment,self).__init__()\n",
        "        \n",
        "        self.layer1 = nn.Linear(in_features=input_features,out_features=500,bias=True)\n",
        "        self.layer2 = nn.Linear(in_features=500,out_features=120,bias=True)\n",
        "        self.layer3 = nn.Linear(in_features=120,out_features=84,bias=True)\n",
        "        self.output = nn.Linear(in_features=84,out_features=1,bias=True)\n",
        "    \n",
        "    def forward(self,k):\n",
        "        k = F.relu(self.layer1(k))\n",
        "        k = F.relu(self.layer2(k))\n",
        "        k = F.relu(self.layer3(k))\n",
        "        k = torch.sigmoid(self.output(k))\n",
        "        \n",
        "        return k"
      ],
      "execution_count": 0,
      "outputs": []
    },
    {
      "cell_type": "code",
      "metadata": {
        "id": "inMQa4D32E_Q",
        "colab_type": "code",
        "colab": {}
      },
      "source": [
        "# Training Simple Neural Network for text classification\n",
        "def NeuralNet(Xtrain, Xtest, ytrain, ytest):\n",
        "  Xtrain = torch.tensor(Xtrain)\n",
        "  ytrain = torch.tensor(ytrain)\n",
        "  Xtest = torch.tensor(Xtest)\n",
        "  ytest = torch.tensor(ytest)\n",
        "\n",
        "  ytrain = ytrain.reshape(-1,1)\n",
        "  ytest = ytest.reshape(-1,1)\n",
        "\n",
        "  Xtrain = Xtrain.cuda()\n",
        "  ytrain = ytrain.cuda()\n",
        "  Xtest = Xtest.cuda()\n",
        "  ytest = ytest.cuda()\n",
        "\n",
        "  net = Sentiment(Xtrain.shape[1])\n",
        "  net.cuda()\n",
        "  losses = []\n",
        "  optimser = optim.Adam(net.parameters(),lr=0.01)\n",
        "  criterion = nn.MSELoss()\n",
        "  for i in tqdm(range(1000)):\n",
        "      preds = net(Xtrain.float())\n",
        "      optimser.zero_grad()\n",
        "      loss = criterion(preds,ytrain.float())\n",
        "      loss.backward()\n",
        "      losses.append(loss.item())\n",
        "      optimser.step()\n",
        "\n",
        "  predsTrainNN = net(Xtrain.float())\n",
        "  trainAcc = accuracy(predsTrainNN,ytrain)\n",
        "  predsTestNN = net(Xtest.float())\n",
        "  testAcc = accuracy(predsTestNN,ytest)\n",
        "\n",
        "  print(\"Training Accuracy on Neural Network is\",trainAcc)\n",
        "  print(\"Test Accuracy on Neural Network is\",testAcc)\n",
        "  return trainAcc, testAcc, losses, net"
      ],
      "execution_count": 0,
      "outputs": []
    },
    {
      "cell_type": "code",
      "metadata": {
        "id": "98P8WkAgGs66",
        "colab_type": "code",
        "colab": {
          "base_uri": "https://localhost:8080/",
          "height": 204
        },
        "outputId": "66191e21-16a7-4b8a-c4ed-6b39af84be22"
      },
      "source": [
        "df = pd.read_csv(\"train.csv\",encoding=\"latin-1\")\n",
        "df.head()"
      ],
      "execution_count": 13,
      "outputs": [
        {
          "output_type": "execute_result",
          "data": {
            "text/html": [
              "<div>\n",
              "<style scoped>\n",
              "    .dataframe tbody tr th:only-of-type {\n",
              "        vertical-align: middle;\n",
              "    }\n",
              "\n",
              "    .dataframe tbody tr th {\n",
              "        vertical-align: top;\n",
              "    }\n",
              "\n",
              "    .dataframe thead th {\n",
              "        text-align: right;\n",
              "    }\n",
              "</style>\n",
              "<table border=\"1\" class=\"dataframe\">\n",
              "  <thead>\n",
              "    <tr style=\"text-align: right;\">\n",
              "      <th></th>\n",
              "      <th>ItemID</th>\n",
              "      <th>Sentiment</th>\n",
              "      <th>SentimentText</th>\n",
              "    </tr>\n",
              "  </thead>\n",
              "  <tbody>\n",
              "    <tr>\n",
              "      <th>0</th>\n",
              "      <td>1</td>\n",
              "      <td>0</td>\n",
              "      <td>is so sad for my APL frie...</td>\n",
              "    </tr>\n",
              "    <tr>\n",
              "      <th>1</th>\n",
              "      <td>2</td>\n",
              "      <td>0</td>\n",
              "      <td>I missed the New Moon trail...</td>\n",
              "    </tr>\n",
              "    <tr>\n",
              "      <th>2</th>\n",
              "      <td>3</td>\n",
              "      <td>1</td>\n",
              "      <td>omg its already 7:30 :O</td>\n",
              "    </tr>\n",
              "    <tr>\n",
              "      <th>3</th>\n",
              "      <td>4</td>\n",
              "      <td>0</td>\n",
              "      <td>.. Omgaga. Im sooo  im gunna CRy. I'...</td>\n",
              "    </tr>\n",
              "    <tr>\n",
              "      <th>4</th>\n",
              "      <td>5</td>\n",
              "      <td>0</td>\n",
              "      <td>i think mi bf is cheating on me!!!   ...</td>\n",
              "    </tr>\n",
              "  </tbody>\n",
              "</table>\n",
              "</div>"
            ],
            "text/plain": [
              "   ItemID  Sentiment                                      SentimentText\n",
              "0       1          0                       is so sad for my APL frie...\n",
              "1       2          0                     I missed the New Moon trail...\n",
              "2       3          1                            omg its already 7:30 :O\n",
              "3       4          0            .. Omgaga. Im sooo  im gunna CRy. I'...\n",
              "4       5          0           i think mi bf is cheating on me!!!   ..."
            ]
          },
          "metadata": {
            "tags": []
          },
          "execution_count": 13
        }
      ]
    },
    {
      "cell_type": "code",
      "metadata": {
        "id": "x6pTcH63Gnqv",
        "colab_type": "code",
        "colab": {}
      },
      "source": [
        "Xtrain, Xtest, ytrain, ytest, cv = prepareData(df)"
      ],
      "execution_count": 0,
      "outputs": []
    },
    {
      "cell_type": "code",
      "metadata": {
        "id": "AUqC6LWjIZsG",
        "colab_type": "code",
        "colab": {}
      },
      "source": [
        "originalXtrain = Xtrain\n",
        "originalXtest = Xtest\n",
        "originalytrain = ytrain\n",
        "originalytest = ytest"
      ],
      "execution_count": 0,
      "outputs": []
    },
    {
      "cell_type": "code",
      "metadata": {
        "id": "pRD1cVA02o4W",
        "colab_type": "code",
        "outputId": "d31bcba3-a34d-4926-b042-5cb7ed039e8d",
        "colab": {
          "base_uri": "https://localhost:8080/",
          "height": 68
        }
      },
      "source": [
        "trainAccNN, testAccNN, losses, net = NeuralNet(Xtrain,Xtest,ytrain,ytest)"
      ],
      "execution_count": 18,
      "outputs": [
        {
          "output_type": "stream",
          "text": [
            "100%|██████████| 1000/1000 [07:51<00:00,  2.12it/s]\n"
          ],
          "name": "stderr"
        },
        {
          "output_type": "stream",
          "text": [
            "Training Accuracy on Neural Network is 97.80797740910695\n",
            "Test Accuracy on Neural Network is 71.08473898259884\n"
          ],
          "name": "stdout"
        }
      ]
    },
    {
      "cell_type": "code",
      "metadata": {
        "id": "JUwOPexC26Y-",
        "colab_type": "code",
        "colab": {
          "base_uri": "https://localhost:8080/",
          "height": 51
        },
        "outputId": "44b862c1-6d47-489d-bb54-f64a9d76ab35"
      },
      "source": [
        "trainAccNB, testAccNB, nb = NaiveBayesClassifier(Xtrain,ytrain,Xtest,ytest)"
      ],
      "execution_count": 21,
      "outputs": [
        {
          "output_type": "stream",
          "text": [
            "Training Accuracy on Naive Bayes is 0.6644899399929404\n",
            "Test Accuracy on Naive Bayes is 0.6279751983465565\n"
          ],
          "name": "stdout"
        }
      ]
    },
    {
      "cell_type": "code",
      "metadata": {
        "id": "UlsoPex23KxO",
        "colab_type": "code",
        "colab": {
          "base_uri": "https://localhost:8080/",
          "height": 51
        },
        "outputId": "8336aabf-174a-48f5-f02c-484e241f2a7b"
      },
      "source": [
        "trainAccDec, testAccDec, classifierDec = DecisionTree(Xtrain,ytrain,Xtest,ytest)"
      ],
      "execution_count": 22,
      "outputs": [
        {
          "output_type": "stream",
          "text": [
            "Training Accuracy on Decision Tree is 0.744358159783504\n",
            "Test Accuracy on Decision Tree is 0.6751783452230149\n"
          ],
          "name": "stdout"
        }
      ]
    },
    {
      "cell_type": "code",
      "metadata": {
        "id": "FyMrKYc9HSgO",
        "colab_type": "code",
        "colab": {
          "base_uri": "https://localhost:8080/",
          "height": 51
        },
        "outputId": "bd15412d-ac4c-4aa3-a2bf-da30a97a10c5"
      },
      "source": [
        "trainAccForest, testAccForest, forest = RandomForest(Xtrain,Xtest,ytrain,ytest)"
      ],
      "execution_count": 23,
      "outputs": [
        {
          "output_type": "stream",
          "text": [
            "Training Accuracy on Random Forest Classification is 0.9800211789622308\n",
            "Test Accuracy on random Forest Classifications is 0.7133808920594706\n"
          ],
          "name": "stdout"
        }
      ]
    },
    {
      "cell_type": "markdown",
      "metadata": {
        "id": "FCCqkRI7ONUL",
        "colab_type": "text"
      },
      "source": [
        "**As we compare the accuracies from various algorithm we can conclude that Random Forest Classification algorithm performs the best as compared to Simple Feedforward Neural Network, Naive Bayes and Decision Tree Classification algorithm**"
      ]
    },
    {
      "cell_type": "markdown",
      "metadata": {
        "id": "afXidHu7PEoh",
        "colab_type": "text"
      },
      "source": [
        "Now lets scarp some tweets from twitter using a particular keyword and then perform sentimnt analysis on it using our Random Forest Classifier"
      ]
    },
    {
      "cell_type": "code",
      "metadata": {
        "id": "ru_mqqutMXbj",
        "colab_type": "code",
        "colab": {}
      },
      "source": [
        "def performSentimentAnalysis(keyword):\n",
        "  newTestData = createTestData(keyword)\n",
        "  cleanTestData = clean(newTestData)\n",
        "  Xclean = cv.transform(cleanTestData).toarray()\n",
        "  prediction = list(forest.predict(Xclean))\n",
        "  positive = prediction.count(1)\n",
        "  negative = prediction.count(0)\n",
        "  X = [positive,negative]\n",
        "  labels = [\"positive\",\"negative\"]\n",
        "  colors = [\"green\",\"red\"]\n",
        "  plt.pie(X,labels=labels,colors=colors,shadow=True,startangle=0,autopct=\"%1.1f%%\")\n",
        "  plt.title(\"Sentiment analysis for tweets having keyword \"+keyword.upper())\n",
        "  plt.show()"
      ],
      "execution_count": 0,
      "outputs": []
    },
    {
      "cell_type": "code",
      "metadata": {
        "id": "_gp9mWe7PRVQ",
        "colab_type": "code",
        "colab": {
          "base_uri": "https://localhost:8080/",
          "height": 264
        },
        "outputId": "c93ac2f4-a794-47d3-a1df-7ae72aa0c176"
      },
      "source": [
        "performSentimentAnalysis(\"coronavirus\")"
      ],
      "execution_count": 100,
      "outputs": [
        {
          "output_type": "display_data",
          "data": {
            "image/png": "[encoded data removed]",
            "text/plain": [
              "<Figure size 432x288 with 1 Axes>"
            ]
          },
          "metadata": {
            "tags": []
          }
        }
      ]
    },
    {
      "cell_type": "code",
      "metadata": {
        "id": "W5_BIKRESI3J",
        "colab_type": "code",
        "colab": {}
      },
      "source": [
        ""
      ],
      "execution_count": 0,
      "outputs": []
    }
  ]
}